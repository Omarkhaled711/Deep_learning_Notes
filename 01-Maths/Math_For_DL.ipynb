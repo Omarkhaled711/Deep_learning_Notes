{
  "nbformat": 4,
  "nbformat_minor": 0,
  "metadata": {
    "colab": {
      "provenance": []
    },
    "kernelspec": {
      "name": "python3",
      "display_name": "Python 3"
    },
    "language_info": {
      "name": "python"
    }
  },
  "cells": [
    {
      "cell_type": "markdown",
      "source": [
        "# Practical Coding Notebook\n",
        "\n",
        "Welcome to the Practical Coding Notebook for Deep Learning Concepts!\n",
        "\n",
        "**Note:** This notebook is designed to provide hands-on coding experience for the mathematical concepts discussed in the accompanying README file.\n",
        "\n",
        "### Important:\n",
        "- **Theory and Explanations:** All theoretical concepts, definitions, and explanations can be found in the README. It is recommended to review the README for before diving into the code.\n",
        "- **Navigation:** After each concept is explained in the README, relevant sections will direct you to this notebook for practical exercises."
      ],
      "metadata": {
        "id": "X6r_OYBFGxAn"
      }
    },
    {
      "cell_type": "code",
      "source": [
        "import numpy as np\n",
        "import torch #pytorch\n",
        "import tensorflow as tf\n",
        "import matplotlib.pyplot as plt"
      ],
      "metadata": {
        "id": "E3KHNAwvFhr1"
      },
      "execution_count": null,
      "outputs": []
    },
    {
      "cell_type": "markdown",
      "source": [
        "# Transpose\n",
        "\n",
        "## Using numpy\n"
      ],
      "metadata": {
        "id": "AfqipljSFVMK"
      }
    },
    {
      "cell_type": "code",
      "execution_count": null,
      "metadata": {
        "colab": {
          "base_uri": "https://localhost:8080/"
        },
        "id": "3IyYrd6OFOwO",
        "outputId": "943e7b12-9a15-47e0-f44d-dac528798866"
      },
      "outputs": [
        {
          "output_type": "stream",
          "name": "stdout",
          "text": [
            "Orginal vector:\n",
            " [[1 2 3]]\n",
            "\n",
            "Transpose vector:\n",
            " [[1]\n",
            " [2]\n",
            " [3]]\n",
            "\n",
            "Transpose of the transpose results in the orignal vecotr:\n",
            " [[1 2 3]]\n"
          ]
        }
      ],
      "source": [
        "# Creating a NumPy vector (row vector)\n",
        "np_vector = np.array([[1, 2, 3]])\n",
        "print(\"Orginal vector:\\n\", np_vector)\n",
        "\n",
        "# transpose it\n",
        "np_vector_transpose = np_vector.T   # The row vector is now a column vector\n",
        "print(\"\\nTranspose vector:\\n\", np_vector_transpose)\n",
        "\n",
        "# transpose the transpose\n",
        "print(\"\\nTranspose of the transpose results in the orignal vecotr:\\n\", np_vector_transpose.T)"
      ]
    },
    {
      "cell_type": "code",
      "source": [
        "# printing Type\n",
        "print(type(np_vector))"
      ],
      "metadata": {
        "colab": {
          "base_uri": "https://localhost:8080/"
        },
        "id": "bFb01PHVG8Qc",
        "outputId": "8caaae9a-b5f6-4638-b98c-f1876f4c5094"
      },
      "execution_count": null,
      "outputs": [
        {
          "output_type": "stream",
          "name": "stdout",
          "text": [
            "<class 'numpy.ndarray'>\n"
          ]
        }
      ]
    },
    {
      "cell_type": "code",
      "source": [
        "# Creating a NumPy matrix (2 rows, 4 columns)\n",
        "np_matrix =  np.array([ [1,2,3,4],\n",
        "                         [5,6,7,8]\n",
        "                      ])\n",
        "print(\"Original Matrix:\\n\", np_matrix)\n",
        "\n",
        "# transpose it\n",
        "np_matrix_transpose = np_matrix.T   # Rows become columns\n",
        "print(\"\\nTranspose matrix:\\n\", np_matrix_transpose)\n",
        "\n",
        "# transpose the transpose\n",
        "print(\"\\nTranspose of the transpose results in the orignal matrix:\\n\", np_matrix_transpose.T)"
      ],
      "metadata": {
        "colab": {
          "base_uri": "https://localhost:8080/"
        },
        "id": "TRX22j8AGJwI",
        "outputId": "c6455c87-8ba7-4a8f-95b7-b4102978c9fc"
      },
      "execution_count": null,
      "outputs": [
        {
          "output_type": "stream",
          "name": "stdout",
          "text": [
            "Original Matrix:\n",
            " [[1 2 3 4]\n",
            " [5 6 7 8]]\n",
            "\n",
            "Transpose matrix:\n",
            " [[1 5]\n",
            " [2 6]\n",
            " [3 7]\n",
            " [4 8]]\n",
            "\n",
            "Transpose of the transpose results in the orignal matrix:\n",
            " [[1 2 3 4]\n",
            " [5 6 7 8]]\n"
          ]
        }
      ]
    },
    {
      "cell_type": "code",
      "source": [
        "# printing Type\n",
        "print(type(np_matrix))"
      ],
      "metadata": {
        "colab": {
          "base_uri": "https://localhost:8080/"
        },
        "id": "ONdJVbECIX8S",
        "outputId": "ea52790f-9eb5-4698-e81f-4176f79f36d9"
      },
      "execution_count": null,
      "outputs": [
        {
          "output_type": "stream",
          "name": "stdout",
          "text": [
            "<class 'numpy.ndarray'>\n"
          ]
        }
      ]
    },
    {
      "cell_type": "markdown",
      "source": [
        "## Using pytorch"
      ],
      "metadata": {
        "id": "ZYC-QNwYIgZ8"
      }
    },
    {
      "cell_type": "code",
      "source": [
        "# Creating a PyTorch vector (row vector)\n",
        "torch_vector = torch.tensor([ [1,2,3,4] ])\n",
        "print(\"Orginal vector:\\n\", torch_vector)\n",
        "\n",
        "# transpose it\n",
        "torch_vector_transpose = torch_vector.T   # The row vector is now a column vector\n",
        "print(\"\\nTranspose vector:\\n\", torch_vector_transpose)\n",
        "\n",
        "# transpose the transpose\n",
        "print(\"\\nTranspose of the transpose results in the orignal vecotr:\\n\", torch_vector_transpose.T)"
      ],
      "metadata": {
        "colab": {
          "base_uri": "https://localhost:8080/"
        },
        "id": "REf_CabcIdCr",
        "outputId": "dc3230c2-2734-4a84-88ab-4a151490e3ad"
      },
      "execution_count": null,
      "outputs": [
        {
          "output_type": "stream",
          "name": "stdout",
          "text": [
            "Orginal vector:\n",
            " tensor([[1, 2, 3, 4]])\n",
            "\n",
            "Transpose vector:\n",
            " tensor([[1],\n",
            "        [2],\n",
            "        [3],\n",
            "        [4]])\n",
            "\n",
            "Transpose of the transpose results in the orignal vecotr:\n",
            " tensor([[1, 2, 3, 4]])\n"
          ]
        }
      ]
    },
    {
      "cell_type": "code",
      "source": [
        "# printing Type\n",
        "print(type(torch_vector))"
      ],
      "metadata": {
        "colab": {
          "base_uri": "https://localhost:8080/"
        },
        "id": "AT7_7hCeJflA",
        "outputId": "d39aa1e5-f2cc-4a71-ebd6-2e0f7f6a0c14"
      },
      "execution_count": null,
      "outputs": [
        {
          "output_type": "stream",
          "name": "stdout",
          "text": [
            "<class 'torch.Tensor'>\n"
          ]
        }
      ]
    },
    {
      "cell_type": "code",
      "source": [
        "# Creating a PyTorch matrix (2 rows, 4 columns)\n",
        "torch_matrix = torch.tensor([ [1,2,3,4],[5,6,7,8] ])\n",
        "print(\"Orginal vector:\\n\", torch_matrix)\n",
        "\n",
        "# transpose it\n",
        "torch_matrix_transpose = torch_matrix.T  # Rows become columns\n",
        "print(\"\\nTranspose vector:\\n\", torch_matrix_transpose)\n",
        "\n",
        "# transpose the transpose\n",
        "print(\"\\nTranspose of the transpose results in the orignal vecotr:\\n\", torch_matrix_transpose.T)"
      ],
      "metadata": {
        "colab": {
          "base_uri": "https://localhost:8080/"
        },
        "id": "gO6GRNFzJme-",
        "outputId": "22de3563-2cb1-482e-e886-6941da9b9598"
      },
      "execution_count": null,
      "outputs": [
        {
          "output_type": "stream",
          "name": "stdout",
          "text": [
            "Orginal vector:\n",
            " tensor([[1, 2, 3, 4],\n",
            "        [5, 6, 7, 8]])\n",
            "\n",
            "Transpose vector:\n",
            " tensor([[1, 5],\n",
            "        [2, 6],\n",
            "        [3, 7],\n",
            "        [4, 8]])\n",
            "\n",
            "Transpose of the transpose results in the orignal vecotr:\n",
            " tensor([[1, 2, 3, 4],\n",
            "        [5, 6, 7, 8]])\n"
          ]
        }
      ]
    },
    {
      "cell_type": "code",
      "source": [
        "# printing Type\n",
        "print(type(torch_matrix))"
      ],
      "metadata": {
        "colab": {
          "base_uri": "https://localhost:8080/"
        },
        "id": "pToHx9sAJ5Rw",
        "outputId": "af956207-5912-48ba-dc26-6ebbfb6dbb33"
      },
      "execution_count": null,
      "outputs": [
        {
          "output_type": "stream",
          "name": "stdout",
          "text": [
            "<class 'torch.Tensor'>\n"
          ]
        }
      ]
    },
    {
      "cell_type": "markdown",
      "source": [
        "## Using TensorFlow"
      ],
      "metadata": {
        "id": "D5fweR1xMcKY"
      }
    },
    {
      "cell_type": "code",
      "source": [
        "# Creating a TensorFlow vector (row vector)\n",
        "tf_vector = tf.constant([[1, 2, 3]])\n",
        "print(\"Original vector:\\n\", tf_vector)\n",
        "\n",
        "# transposing the TensorFlow vector\n",
        "tf_vector_transpose = tf.transpose(tf_vector) # now it's a column vector\n",
        "print(\"\\nTransposed vector:\\n\", tf_vector_transpose)\n",
        "\n",
        "# transposig the transpose\n",
        "print(\"\\nTranspose of the transpose results in the original vector:\\n\", tf.transpose(tf_vector_transpose))\n"
      ],
      "metadata": {
        "colab": {
          "base_uri": "https://localhost:8080/"
        },
        "id": "RWXFykidJ9GO",
        "outputId": "f6c1bde0-ad94-421e-9651-071b76f77d0a"
      },
      "execution_count": null,
      "outputs": [
        {
          "output_type": "stream",
          "name": "stdout",
          "text": [
            "Original vector:\n",
            " tf.Tensor([[1 2 3]], shape=(1, 3), dtype=int32)\n",
            "\n",
            "Transposed vector:\n",
            " tf.Tensor(\n",
            "[[1]\n",
            " [2]\n",
            " [3]], shape=(3, 1), dtype=int32)\n",
            "\n",
            "Transpose of the transpose results in the original vector:\n",
            " tf.Tensor([[1 2 3]], shape=(1, 3), dtype=int32)\n"
          ]
        }
      ]
    },
    {
      "cell_type": "code",
      "source": [
        "print(type(tf_vector))"
      ],
      "metadata": {
        "colab": {
          "base_uri": "https://localhost:8080/"
        },
        "id": "Zrf3y-TIMgIf",
        "outputId": "29d89372-d913-43cc-dae6-7dbd2bf18649"
      },
      "execution_count": null,
      "outputs": [
        {
          "output_type": "stream",
          "name": "stdout",
          "text": [
            "<class 'tensorflow.python.framework.ops.EagerTensor'>\n"
          ]
        }
      ]
    },
    {
      "cell_type": "code",
      "source": [
        "# Creating a TensorFlow matrix (2 rows, 4 columns)\n",
        "tf_matrix = tf.constant([[1, 2, 3, 4],\n",
        "                          [5, 6, 7, 8]])\n",
        "print(\"Original matrix:\\n\", tf_matrix)\n",
        "\n",
        "# Transposing the TensorFlow matrix\n",
        "tf_matrix_transpose = tf.transpose(tf_matrix)\n",
        "print(\"\\nTransposed matrix:\\n\", tf_matrix_transpose)  # Rows become columns\n",
        "\n",
        "# transposing the transpose\n",
        "print(\"\\nTranspose of the transpose results in the original matrix:\\n\", tf.transpose(tf_matrix_transpose))\n"
      ],
      "metadata": {
        "colab": {
          "base_uri": "https://localhost:8080/"
        },
        "id": "cFIQ7eSqM5Bf",
        "outputId": "d8c59308-00d3-4b8a-9820-5e6c02fa064c"
      },
      "execution_count": null,
      "outputs": [
        {
          "output_type": "stream",
          "name": "stdout",
          "text": [
            "Original matrix:\n",
            " tf.Tensor(\n",
            "[[1 2 3 4]\n",
            " [5 6 7 8]], shape=(2, 4), dtype=int32)\n",
            "\n",
            "Transposed matrix:\n",
            " tf.Tensor(\n",
            "[[1 5]\n",
            " [2 6]\n",
            " [3 7]\n",
            " [4 8]], shape=(4, 2), dtype=int32)\n",
            "\n",
            "Transpose of the transpose results in the original matrix:\n",
            " tf.Tensor(\n",
            "[[1 2 3 4]\n",
            " [5 6 7 8]], shape=(2, 4), dtype=int32)\n"
          ]
        }
      ]
    },
    {
      "cell_type": "code",
      "source": [
        "# Printing the type of the original matrix\n",
        "print(type(tf_matrix))"
      ],
      "metadata": {
        "colab": {
          "base_uri": "https://localhost:8080/"
        },
        "id": "sim6RHXjNMXe",
        "outputId": "284b856a-bf92-436c-986c-073b3d24d73d"
      },
      "execution_count": null,
      "outputs": [
        {
          "output_type": "stream",
          "name": "stdout",
          "text": [
            "<class 'tensorflow.python.framework.ops.EagerTensor'>\n"
          ]
        }
      ]
    },
    {
      "cell_type": "markdown",
      "source": [
        "# Dot Product\n",
        "## Uning numpy"
      ],
      "metadata": {
        "id": "uyFsg_LgMCoA"
      }
    },
    {
      "cell_type": "code",
      "source": [
        "# create a vector\n",
        "np_vect1 = np.array([1,2,3,4])\n",
        "np_vect2 = np.array([0,1,0,-1])\n",
        "\n",
        "# dot product via function\n",
        "print(np.dot(np_vect1,np_vect2))\n"
      ],
      "metadata": {
        "colab": {
          "base_uri": "https://localhost:8080/"
        },
        "id": "RBeQNmJ_NNzy",
        "outputId": "d9d1d093-c175-434a-b36f-6cdbada1495a"
      },
      "execution_count": null,
      "outputs": [
        {
          "output_type": "stream",
          "name": "stdout",
          "text": [
            "-2\n"
          ]
        }
      ]
    },
    {
      "cell_type": "markdown",
      "source": [
        "## Using pytorch"
      ],
      "metadata": {
        "id": "hFp7isUnMcuD"
      }
    },
    {
      "cell_type": "code",
      "source": [
        "# create a vector\n",
        "torch_vect1 = torch.tensor([1,2,3,4])\n",
        "torch_vect2 = torch.tensor([0,1,0,-1])\n",
        "\n",
        "# dot product via function\n",
        "print(torch.dot(torch_vect1,torch_vect2)) ## it prints tensor(-2), because as mentioned in the Readme, pytorch treats everything as tensors"
      ],
      "metadata": {
        "colab": {
          "base_uri": "https://localhost:8080/"
        },
        "id": "eKEe20PKMbqe",
        "outputId": "5909295f-0b13-4fe4-a130-09103837dbef"
      },
      "execution_count": null,
      "outputs": [
        {
          "output_type": "stream",
          "name": "stdout",
          "text": [
            "tensor(-2)\n"
          ]
        }
      ]
    },
    {
      "cell_type": "markdown",
      "source": [
        "## Using TensorFlow"
      ],
      "metadata": {
        "id": "4cViTIsRMwBI"
      }
    },
    {
      "cell_type": "code",
      "source": [
        "# Create a vector\n",
        "tf_vect1 = tf.constant([1, 2, 3, 4])\n",
        "tf_vect2 = tf.constant([0, 1, 0, -1])\n",
        "\n",
        "# Dot product via function\n",
        "dot_product = tf.tensordot(tf_vect1, tf_vect2, axes=1)\n",
        "print(dot_product) ## similar to pytorch, tensorflow treats everything as thensors"
      ],
      "metadata": {
        "colab": {
          "base_uri": "https://localhost:8080/"
        },
        "id": "LUElKEp4MvUV",
        "outputId": "aafe1a54-4460-405f-dda6-3c3deab17815"
      },
      "execution_count": null,
      "outputs": [
        {
          "output_type": "stream",
          "name": "stdout",
          "text": [
            "tf.Tensor(-2, shape=(), dtype=int32)\n"
          ]
        }
      ]
    },
    {
      "cell_type": "markdown",
      "source": [
        "# Matrix Multiplication\n",
        "## Using numpy"
      ],
      "metadata": {
        "id": "BoASAYRu4sJS"
      }
    },
    {
      "cell_type": "code",
      "source": [
        "# create some matrices\n",
        "A = np.random.randn(3,4)\n",
        "B = np.random.randn(4,5)\n",
        "C = np.random.randn(3,7)\n",
        "\n",
        "# trying some multiplications...\n",
        "print(f'{A@B} \\n')\n",
        "#print(f'{A@C} \\n') # this one produces an error due to dimentions problem\n",
        "#print(f'{B@C} \\n') # this one produces an error due to dimentions problem\n",
        "print(f'{C.T@A} \\n')"
      ],
      "metadata": {
        "id": "y7gNrKxCNENs",
        "colab": {
          "base_uri": "https://localhost:8080/"
        },
        "outputId": "281a8fb3-0941-4835-b46c-bf5a7746693b"
      },
      "execution_count": null,
      "outputs": [
        {
          "output_type": "stream",
          "name": "stdout",
          "text": [
            "[[ 0.33649085  1.11689118 -0.80799546 -0.71603144 -0.76858808]\n",
            " [-0.99834102 -1.07751587 -1.251939    1.17699851 -0.28230008]\n",
            " [-1.03987947 -2.83920294 -1.7179566   0.5511967  -0.9345273 ]] \n",
            "\n",
            "[[ 1.96260381 -1.00390267  1.08117892 -0.35959703]\n",
            " [ 0.40359034  0.7542818   0.28718086  1.10432139]\n",
            " [-0.08781354  0.24360453 -0.58931423 -1.70939969]\n",
            " [-0.29786527 -0.51174095  0.27780389  0.9690278 ]\n",
            " [-2.13230372  0.50821428 -0.69678875  1.51347811]\n",
            " [ 1.28231105 -0.60754723  0.83843302  0.28174441]\n",
            " [-1.33307536 -0.41291919 -0.41494023  0.29874645]] \n",
            "\n"
          ]
        }
      ]
    },
    {
      "cell_type": "markdown",
      "source": [
        "## Using pytorch"
      ],
      "metadata": {
        "id": "bnHazh6p5lsy"
      }
    },
    {
      "cell_type": "code",
      "source": [
        "# create some random matrices\n",
        "A  = torch.randn(3,4)\n",
        "B  = torch.randn(4,5)\n",
        "C1 = np.random.randn(4,7)\n",
        "C2 = torch.tensor( C1,dtype=torch.float ) # converting torch matrix into numpy matrix\n",
        "\n",
        "# trying some multiplications...\n",
        "print(f'{A@B} \\n')\n",
        "print(f'Trying with numpy matrix:\\n {A@C1} \\n') # trying to multiply torch matrix into numpy matrix (spoiler alert it works fine)\n",
        "print(f'{A@C2} \\n')"
      ],
      "metadata": {
        "colab": {
          "base_uri": "https://localhost:8080/"
        },
        "id": "zvinJ6lU5d9J",
        "outputId": "96eefa70-1726-4352-9e4d-7c32ccdd6a61"
      },
      "execution_count": null,
      "outputs": [
        {
          "output_type": "stream",
          "name": "stdout",
          "text": [
            "tensor([[ 0.2279,  1.0370,  1.5913,  3.3768,  2.4319],\n",
            "        [-0.9444,  3.1279,  1.3747, -2.4489, -0.8689],\n",
            "        [-0.0614,  2.2125, -0.4016,  5.6635,  3.9091]]) \n",
            "\n",
            "Trying with numpy matrix:\n",
            " tensor([[-0.7309, -0.5662,  0.8133, -1.5403,  0.4853, -0.3486,  0.4378],\n",
            "        [-0.9675, -0.9798, -0.1585, -3.7662, -0.7225,  1.3800,  0.6406],\n",
            "        [ 0.2153, -0.5350,  1.5792,  1.1179,  1.2416, -1.7226,  0.1030]],\n",
            "       dtype=torch.float64) \n",
            "\n",
            "tensor([[-0.7309, -0.5662,  0.8133, -1.5403,  0.4853, -0.3486,  0.4378],\n",
            "        [-0.9675, -0.9798, -0.1585, -3.7662, -0.7225,  1.3800,  0.6406],\n",
            "        [ 0.2153, -0.5350,  1.5792,  1.1179,  1.2416, -1.7226,  0.1030]]) \n",
            "\n"
          ]
        }
      ]
    },
    {
      "cell_type": "markdown",
      "source": [
        "## Using TensorFlow"
      ],
      "metadata": {
        "id": "q_w85njL7l5z"
      }
    },
    {
      "cell_type": "code",
      "source": [
        "# Create some random matrices\n",
        "A = tf.random.normal((3, 4))\n",
        "B = tf.random.normal((4, 5))\n",
        "\n",
        "C1 = np.random.randn(4, 7)\n",
        "C2 = tf.convert_to_tensor(C1, dtype=tf.float32)  # Converting numpy matrix into TensorFlow tensor\n",
        "\n",
        "D1 = torch.randn(4, 5)  # PyTorch matrix\n",
        "D2 = tf.convert_to_tensor(D1.numpy(), dtype=tf.float32)\n",
        "\n",
        "\n",
        "# Trying some multiplications...\n",
        "print(f'{tf.matmul(A, B)} \\n')\n",
        "\n",
        "print(f'Trying with numpy matrix:\\n {tf.matmul(A, C1)} \\n')  # Trying to multiply TensorFlow matrix into numpy matrix\n",
        "print(f'{tf.matmul(A, C2)} \\n')\n",
        "\n",
        "print(f'Trying with pytorch matrix:\\n {tf.matmul(A, D1)} \\n')  # Trying to multiply TensorFlow matrix into pytorch matrix\n",
        "print(f'{tf.matmul(A, D2)} \\n')\n"
      ],
      "metadata": {
        "colab": {
          "base_uri": "https://localhost:8080/"
        },
        "id": "NkbFdOkr6Gqq",
        "outputId": "b281a751-f168-4a02-cd14-6083febdccbc"
      },
      "execution_count": null,
      "outputs": [
        {
          "output_type": "stream",
          "name": "stdout",
          "text": [
            "[[-3.5436878  -0.9334086   3.3601933  -2.650148   -0.5215156 ]\n",
            " [-1.7889662   3.987668   -0.22660506  1.752732   -2.1904476 ]\n",
            " [ 0.51248795  0.10655811  0.2642838  -0.97936344 -0.7666389 ]] \n",
            "\n",
            "Trying with numpy matrix:\n",
            " [[-5.8255405  -2.846754    0.29859018  0.2979858   2.2549696   0.63715696\n",
            "   1.3761435 ]\n",
            " [ 0.6469581   1.737243    0.97278476  1.402993   -0.6173438  -4.165064\n",
            "   1.3648603 ]\n",
            " [ 0.45291033 -0.9814314  -0.23766749 -0.10577222  0.12156335  0.7638739\n",
            "   0.44700357]] \n",
            "\n",
            "[[-5.8255405  -2.846754    0.29859018  0.2979858   2.2549696   0.63715696\n",
            "   1.3761435 ]\n",
            " [ 0.6469581   1.737243    0.97278476  1.402993   -0.6173438  -4.165064\n",
            "   1.3648603 ]\n",
            " [ 0.45291033 -0.9814314  -0.23766749 -0.10577222  0.12156335  0.7638739\n",
            "   0.44700357]] \n",
            "\n",
            "Trying with pytorch matrix:\n",
            " [[ 4.6013565e+00  3.0696185e+00  3.5360050e+00 -4.1826110e+00\n",
            "   5.5173969e-01]\n",
            " [-3.1370521e-03 -1.0362924e+00 -3.0855379e+00  2.9553857e+00\n",
            "  -1.2860272e+00]\n",
            " [-9.1895694e-01 -4.4972843e-01  8.2085049e-01  6.8270171e-01\n",
            "   6.4558434e-01]] \n",
            "\n",
            "[[ 4.6013565e+00  3.0696185e+00  3.5360050e+00 -4.1826110e+00\n",
            "   5.5173969e-01]\n",
            " [-3.1370521e-03 -1.0362924e+00 -3.0855379e+00  2.9553857e+00\n",
            "  -1.2860272e+00]\n",
            " [-9.1895694e-01 -4.4972843e-01  8.2085049e-01  6.8270171e-01\n",
            "   6.4558434e-01]] \n",
            "\n"
          ]
        }
      ]
    },
    {
      "cell_type": "markdown",
      "source": [
        "# Softmax\n",
        "## Using numpy"
      ],
      "metadata": {
        "id": "5YCAc97ebXBM"
      }
    },
    {
      "cell_type": "code",
      "source": [
        "z = np.random.randint(-5,high=15,size=20)\n",
        "print(f'Array is: {z}')\n",
        "\n",
        "# compute the softmax result\n",
        "num = np.exp(z)\n",
        "den = np.sum( num )\n",
        "sigma = num / den\n",
        "print(f'sigma is: {sigma}')\n",
        "print(f'sum is: {np.sum(sigma)}')"
      ],
      "metadata": {
        "colab": {
          "base_uri": "https://localhost:8080/"
        },
        "id": "5qrzu9Td7Oef",
        "outputId": "19070b6e-8214-47b3-ff70-e010eb4e404a"
      },
      "execution_count": null,
      "outputs": [
        {
          "output_type": "stream",
          "name": "stdout",
          "text": [
            "Array is: [ 2  8  8 11 10  5 -3  0  4 12  6 10  4 -4  8  4 -5 -5 13  6]\n",
            "sigma is: [1.02744840e-05 4.14502266e-03 4.14502266e-03 8.32550058e-02\n",
            " 3.06278050e-02 2.06368527e-04 6.92289283e-08 1.39050020e-06\n",
            " 7.59187383e-05 2.26310569e-01 5.60967816e-04 3.06278050e-02\n",
            " 7.59187383e-05 2.54678995e-08 4.14502266e-03 7.59187383e-05\n",
            " 9.36911662e-09 9.36911662e-09 6.15175908e-01 5.60967816e-04]\n",
            "sum is: 1.0\n"
          ]
        }
      ]
    },
    {
      "cell_type": "markdown",
      "source": [
        "## Using pytorch"
      ],
      "metadata": {
        "id": "6P-BkdvvgLx3"
      }
    },
    {
      "cell_type": "code",
      "source": [
        "soft_ans = torch.nn.Softmax(dim=0)\n",
        "# Explanation\n",
        "\"\"\"\n",
        "- torch.nn.Softmax(dim=0): This line initializes a softmax layer from the PyTorch neural network module (torch.nn).\n",
        "- dim=0: This parameter specifies the dimension along which the softmax function will be computed.\n",
        "  - Since dim=0 is used here, it means the softmax will be applied across the rows (for a 1D tensor, it applies to the entire tensor).\n",
        "- Result: soft_ans is now an object that holds a callable softmax layer and can be used to transform input tensors into probabilities.\n",
        "\"\"\"\n",
        "sigma_torch = soft_ans( torch.Tensor(z) )\n",
        "\n",
        "print(sigma_torch)"
      ],
      "metadata": {
        "colab": {
          "base_uri": "https://localhost:8080/"
        },
        "id": "W4ctB4ohgKxd",
        "outputId": "259cf878-954a-4bdc-cc6c-7ae62e998b37"
      },
      "execution_count": null,
      "outputs": [
        {
          "output_type": "stream",
          "name": "stdout",
          "text": [
            "tensor([1.0274e-05, 4.1450e-03, 4.1450e-03, 8.3255e-02, 3.0628e-02, 2.0637e-04,\n",
            "        6.9229e-08, 1.3905e-06, 7.5919e-05, 2.2631e-01, 5.6097e-04, 3.0628e-02,\n",
            "        7.5919e-05, 2.5468e-08, 4.1450e-03, 7.5919e-05, 9.3691e-09, 9.3691e-09,\n",
            "        6.1518e-01, 5.6097e-04])\n"
          ]
        }
      ]
    },
    {
      "cell_type": "markdown",
      "source": [
        "## Using Tesnor Flow"
      ],
      "metadata": {
        "id": "AEIy7-jgiVo3"
      }
    },
    {
      "cell_type": "code",
      "source": [
        "soft_ans = tf.keras.layers.Softmax(axis=0)\n",
        "\n",
        "# Explanation\n",
        "\"\"\"\n",
        "- tf.keras.layers.Softmax(axis=0): This line initializes a softmax layer from the TensorFlow Keras API.\n",
        "- axis=0: This parameter specifies the dimension along which the softmax function will be computed.\n",
        "  - Since axis=0 is used here, it means the softmax will be applied across the rows (for a 1D tensor, it applies to the entire tensor).\n",
        "- Result: soft_ans is now an object that holds a callable softmax layer and can be used to transform input tensors into probabilities.\n",
        "\"\"\"\n",
        "\n",
        "sigma_tf = soft_ans(tf.convert_to_tensor(z, dtype=tf.float32))\n",
        "# We use dtype=tf.float32 to ensure that the input tensor is in a floating-point format.\n",
        "# The softmax function in TensorFlow requires its input to be of a float type (e.g., float32 or float64).\n",
        "\n",
        "print(sigma_tf)"
      ],
      "metadata": {
        "colab": {
          "base_uri": "https://localhost:8080/"
        },
        "id": "PtsLtrmzfsRO",
        "outputId": "408ba1ea-9729-4126-94e8-bd0b7795c2bb"
      },
      "execution_count": null,
      "outputs": [
        {
          "output_type": "stream",
          "name": "stdout",
          "text": [
            "tf.Tensor(\n",
            "[1.0274484e-05 4.1450229e-03 4.1450229e-03 8.3255015e-02 3.0627809e-02\n",
            " 2.0636854e-04 6.9228932e-08 1.3905003e-06 7.5918746e-05 2.2631060e-01\n",
            " 5.6096789e-04 3.0627809e-02 7.5918746e-05 2.5467902e-08 4.1450229e-03\n",
            " 7.5918746e-05 9.3691170e-09 9.3691170e-09 6.1517596e-01 5.6096789e-04], shape=(20,), dtype=float32)\n"
          ]
        }
      ]
    },
    {
      "cell_type": "markdown",
      "source": [
        "## Plotting"
      ],
      "metadata": {
        "id": "eOAUs1tDjBUN"
      }
    },
    {
      "cell_type": "markdown",
      "source": [
        "### Showing that all implementations are the same"
      ],
      "metadata": {
        "id": "WUOOAFs7kwoG"
      }
    },
    {
      "cell_type": "code",
      "source": [
        "plt.figure(figsize=(8, 8))\n",
        "\n",
        "# Plot sigma(numpy implementation) vs. sigma_torch\n",
        "plt.scatter(sigma, sigma_torch, color='blue', label='PyTorch nn.Softmax', alpha=0.6)\n",
        "\n",
        "# Plot sigma(numpy implemntation) vs. sigma_tf\n",
        "plt.scatter(sigma, sigma_tf, color='red', label='TensorFlow nn.Softmax', alpha=0.6)\n",
        "\n",
        "# Add diagonal line for reference (where y=x)\n",
        "plt.plot([0, 1], [0, 1], color='black', linestyle='--', label='y=x (Ideal)')\n",
        "\n",
        "plt.xlabel('\"Manual\" Softmax')\n",
        "plt.ylabel('Softmax Outputs')\n",
        "plt.title('Comparison of Softmax Implementations')\n",
        "plt.legend(loc='upper right')\n",
        "\n",
        "# Show correlation coefficients\n",
        "correlation_torch = np.corrcoef(sigma, sigma_torch)[0, 1]\n",
        "correlation_tf = np.corrcoef(sigma, sigma_tf)[0, 1]\n",
        "plt.text(0.1, 0.9, f'Correlation (PyTorch): r={correlation_torch:.2f}', fontsize=10, color='blue')\n",
        "plt.text(0.1, 0.85, f'Correlation (TensorFlow): r={correlation_tf:.2f}', fontsize=10, color='red')\n",
        "\n",
        "plt.grid()\n",
        "plt.show()"
      ],
      "metadata": {
        "colab": {
          "base_uri": "https://localhost:8080/",
          "height": 718
        },
        "id": "c6HV-jlkiWdA",
        "outputId": "663ceaea-8ea9-4943-d465-094564940603"
      },
      "execution_count": null,
      "outputs": [
        {
          "output_type": "display_data",
          "data": {
            "text/plain": [
              "<Figure size 800x800 with 1 Axes>"
            ],
            "image/png": "[encoded data removed]"
          },
          "metadata": {}
        }
      ]
    },
    {
      "cell_type": "markdown",
      "source": [
        "### Plotting sigma in linear scale"
      ],
      "metadata": {
        "id": "4CXCg1OVk-sv"
      }
    },
    {
      "cell_type": "code",
      "source": [
        "plt.plot(z,sigma,'ko')\n",
        "plt.xlabel('Original number (z)')\n",
        "plt.ylabel('Softmaxified $\\sigma$')\n",
        "plt.title('$\\sum\\sigma$ = %g' %np.sum(sigma))\n",
        "plt.show()"
      ],
      "metadata": {
        "colab": {
          "base_uri": "https://localhost:8080/",
          "height": 477
        },
        "id": "mr4IZCFJk-Pc",
        "outputId": "47bb67b1-6563-4581-de07-b18dfc3e0443"
      },
      "execution_count": null,
      "outputs": [
        {
          "output_type": "display_data",
          "data": {
            "text/plain": [
              "<Figure size 640x480 with 1 Axes>"
            ],
            "image/png": "[encoded data removed]"
          },
          "metadata": {}
        }
      ]
    },
    {
      "cell_type": "markdown",
      "source": [
        "### Plotting Sigma log scale"
      ],
      "metadata": {
        "id": "CU-agqUBlNGm"
      }
    },
    {
      "cell_type": "code",
      "source": [
        "plt.plot(z,sigma,'ko')\n",
        "plt.xlabel('Original number (z)')\n",
        "plt.ylabel('Softmaxified $\\sigma$')\n",
        "plt.yscale('log')\n",
        "plt.title('$\\sum\\sigma$ = %g' %np.sum(sigma))\n",
        "plt.show()"
      ],
      "metadata": {
        "colab": {
          "base_uri": "https://localhost:8080/",
          "height": 477
        },
        "id": "F5AOi8Xfk9Jm",
        "outputId": "5edeeeb2-a0cf-4cc2-9abb-facf1bdaff00"
      },
      "execution_count": null,
      "outputs": [
        {
          "output_type": "display_data",
          "data": {
            "text/plain": [
              "<Figure size 640x480 with 1 Axes>"
            ],
            "image/png": "[encoded data removed]"
          },
          "metadata": {}
        }
      ]
    },
    {
      "cell_type": "markdown",
      "source": [
        "# Logarithms"
      ],
      "metadata": {
        "id": "eroSxnvFlywT"
      }
    },
    {
      "cell_type": "code",
      "source": [
        "# define a set of points to evaluate\n",
        "x = np.linspace(0.0001,1,200)\n",
        "\n",
        "# compute log(x)\n",
        "logx = np.log(x)\n",
        "\n",
        "# plot\n",
        "fig = plt.figure(figsize=(10,4))\n",
        "\n",
        "\n",
        "plt.plot(x,logx,'s-',markerfacecolor='w')\n",
        "plt.xlabel('x')\n",
        "plt.ylabel('log(x)')\n",
        "plt.show()"
      ],
      "metadata": {
        "colab": {
          "base_uri": "https://localhost:8080/",
          "height": 400
        },
        "id": "oTS5wfenl6R4",
        "outputId": "c95ef2b2-7f1a-4209-8667-1411e9569f37"
      },
      "execution_count": null,
      "outputs": [
        {
          "output_type": "display_data",
          "data": {
            "text/plain": [
              "<Figure size 1000x400 with 1 Axes>"
            ],
            "image/png": "[encoded data removed]"
          },
          "metadata": {}
        }
      ]
    },
    {
      "cell_type": "markdown",
      "source": [
        "## Demonstration that log and exp are inverses"
      ],
      "metadata": {
        "id": "9s3tP3K4XSNz"
      }
    },
    {
      "cell_type": "code",
      "source": [
        "# reduce the number of points for a clearer plot\n",
        "x = np.linspace(0.0001,1,40)\n",
        "logx = np.log(x)\n",
        "# compute the e^x\n",
        "expx = np.exp(x)\n",
        "\n",
        "# the plot\n",
        "plt.plot(x,x,color=[.8,.8,.8])\n",
        "plt.plot(x,np.exp(logx),'o')\n",
        "plt.plot(x,np.log(expx),'x')\n",
        "plt.xlabel('x')\n",
        "plt.ylabel('f(g(x))')\n",
        "plt.legend(['unity','exp(log(x))','log(exp(x))'])\n",
        "plt.show()"
      ],
      "metadata": {
        "colab": {
          "base_uri": "https://localhost:8080/",
          "height": 461
        },
        "id": "u4IEhjwt84RY",
        "outputId": "5927e7b4-fde3-4dd7-ed29-6d9b4d8cb558"
      },
      "execution_count": null,
      "outputs": [
        {
          "output_type": "display_data",
          "data": {
            "text/plain": [
              "<Figure size 640x480 with 1 Axes>"
            ],
            "image/png": "[encoded data removed]"
          },
          "metadata": {}
        }
      ]
    },
    {
      "cell_type": "markdown",
      "source": [
        "# Entropy\n",
        "$$H(p) = -\\sum_x p(x)\\log(p(x))$$"
      ],
      "metadata": {
        "id": "GBJtTT-PXu1m"
      }
    },
    {
      "cell_type": "code",
      "source": [
        "p = 0.25 # the probability of an event happening\n",
        "# Therefore the probability of an event not happening = 0.75\n",
        "\n",
        "H = -( p*np.log(p) + (1-p)*np.log(1-p) ) # Binary entropy (events = 2)\n",
        "print('entropy is: ' + str(H))"
      ],
      "metadata": {
        "colab": {
          "base_uri": "https://localhost:8080/"
        },
        "id": "6zv2UkekWKia",
        "outputId": "224dfaf9-3e58-40cd-98ae-94d3fc0539a3"
      },
      "execution_count": null,
      "outputs": [
        {
          "output_type": "stream",
          "name": "stdout",
          "text": [
            "entropy is: 0.5623351446188083\n"
          ]
        }
      ]
    },
    {
      "cell_type": "code",
      "source": [
        "# We can also use this generalized form which is correct for any N\n",
        "events = [.25,.75]\n",
        "\n",
        "H = 0\n",
        "for p in events:\n",
        "  H -= p*np.log(p)\n",
        "print('entropy is: ' + str(H))\n"
      ],
      "metadata": {
        "colab": {
          "base_uri": "https://localhost:8080/"
        },
        "id": "6xrA9On9Yojo",
        "outputId": "39383bb8-8af8-4541-9b0d-a655649be4d9"
      },
      "execution_count": null,
      "outputs": [
        {
          "output_type": "stream",
          "name": "stdout",
          "text": [
            "entropy is: 0.5623351446188083\n"
          ]
        }
      ]
    },
    {
      "cell_type": "markdown",
      "source": [
        "## Cross Entropy\n",
        "  $$\n",
        "  H(P, Q) = -\\sum P(x) \\log(Q(x))\n",
        "  $$\n",
        "  Where:\n",
        "  - $P$: True distribution (ground truth).\n",
        "  - $Q$: Predicted distribution by the model."
      ],
      "metadata": {
        "id": "mOmi1d2QZVZt"
      }
    },
    {
      "cell_type": "code",
      "source": [
        "p = [   1,0   ] # sum=1\n",
        "q = [ .25,.75 ] # sum=1\n",
        "\n",
        "H = 0\n",
        "for i in range(len(p)):\n",
        "  H -= p[i]*np.log(q[i])\n",
        "\n",
        "print('entropy is: ' + str(H))"
      ],
      "metadata": {
        "colab": {
          "base_uri": "https://localhost:8080/"
        },
        "id": "LPk2C7aPY0tj",
        "outputId": "8b5999d2-34e4-4565-93e6-fe7048bef1a7"
      },
      "execution_count": null,
      "outputs": [
        {
          "output_type": "stream",
          "name": "stdout",
          "text": [
            "entropy is: 1.3862943611198906\n"
          ]
        }
      ]
    },
    {
      "cell_type": "code",
      "source": [
        "# also correct, written out for N=2 events (Binary Cross Entropy)\n",
        "H = -( p[0]*np.log(q[0]) + p[1]*np.log(q[1]) )\n",
        "print('entropy is: ' + str(H))"
      ],
      "metadata": {
        "colab": {
          "base_uri": "https://localhost:8080/"
        },
        "id": "fKNUpcBJZ4qb",
        "outputId": "54f9f2e5-f243-4645-bb80-a45d31314931"
      },
      "execution_count": null,
      "outputs": [
        {
          "output_type": "stream",
          "name": "stdout",
          "text": [
            "Correct entropy: 1.3862943611198906\n"
          ]
        }
      ]
    },
    {
      "cell_type": "markdown",
      "source": [
        "### Using pytorch"
      ],
      "metadata": {
        "id": "DKrHhLP3aDVH"
      }
    },
    {
      "cell_type": "code",
      "source": [
        "import torch.nn.functional as F\n",
        "\n",
        "# note: inputs must be Tensors\n",
        "q_tensor = torch.Tensor(q)\n",
        "p_tensor = torch.Tensor(p)\n",
        "\n",
        "H = F.binary_cross_entropy(q_tensor, p_tensor) # first argument is the model prediction (q), second one is the true distribution (p)\n",
        "print('cross entropy is: ' + str(H))"
      ],
      "metadata": {
        "colab": {
          "base_uri": "https://localhost:8080/"
        },
        "id": "qYKpUNZxaBo9",
        "outputId": "5c04eab9-8679-4486-f758-e615ddd4d585"
      },
      "execution_count": null,
      "outputs": [
        {
          "output_type": "stream",
          "name": "stdout",
          "text": [
            "cross entropy is: tensor(1.3863)\n"
          ]
        }
      ]
    },
    {
      "cell_type": "markdown",
      "source": [
        "### Using TensorFlow"
      ],
      "metadata": {
        "id": "9bsH4N18e2yH"
      }
    },
    {
      "cell_type": "code",
      "source": [
        "q_tensor = tf.convert_to_tensor(q, dtype=tf.float32)\n",
        "p_tensor = tf.convert_to_tensor(p, dtype=tf.float32)\n",
        "\n",
        "# Compute binary cross-entropy\n",
        "H = tf.keras.losses.binary_crossentropy(p_tensor, q_tensor) # first argument is the true distribution (p), second one is the model prediction (q)\n",
        "print('cross entropy is: ' + str(H))"
      ],
      "metadata": {
        "colab": {
          "base_uri": "https://localhost:8080/"
        },
        "id": "Qcw-K7JPZ9FQ",
        "outputId": "816dc5e3-bc08-400f-9af7-553eeff557cb"
      },
      "execution_count": null,
      "outputs": [
        {
          "output_type": "stream",
          "name": "stdout",
          "text": [
            "cross entropy is: tf.Tensor(1.3862944, shape=(), dtype=float32)\n"
          ]
        }
      ]
    },
    {
      "cell_type": "markdown",
      "source": [
        "# argmin, argmax, min, max"
      ],
      "metadata": {
        "id": "Oi2tBctph04J"
      }
    },
    {
      "cell_type": "markdown",
      "source": [
        "## Using numpy"
      ],
      "metadata": {
        "id": "dYB6kJNEjMCQ"
      }
    },
    {
      "cell_type": "code",
      "source": [
        "v = np.array([ 1,40,2,-3 ])\n",
        "\n",
        "# find the maximum and minimum values\n",
        "min_val = np.min(v)\n",
        "max_val = np.max(v)\n",
        "\n",
        "print(f'Min,max: {min_val}, {max_val}')\n",
        "\n",
        "# find the argmin/max\n",
        "min_idx = np.argmin(v)\n",
        "max_idx = np.argmax(v)\n",
        "\n",
        "print(f'Min,max indices: {min_idx},{max_idx}')"
      ],
      "metadata": {
        "colab": {
          "base_uri": "https://localhost:8080/"
        },
        "id": "NTucK8iCeexM",
        "outputId": "278e010a-6a7b-4333-b3c6-9e76f8327077"
      },
      "execution_count": null,
      "outputs": [
        {
          "output_type": "stream",
          "name": "stdout",
          "text": [
            "Min,max: -3, 40\n",
            "Min,max indices: 3,1\n"
          ]
        }
      ]
    },
    {
      "cell_type": "code",
      "source": [
        "# Trying it on matrix\n",
        "M = np.array([ [40,1,10], [20,8,0] ])\n",
        "print(f'{M}\\n')\n",
        "\n",
        "# various minima in this matrix!\n",
        "min_val1 = np.min(M)        # minimum from ENTIRE matrix\n",
        "min_val2 = np.min(M,axis=0) # minimum of each column (across rows)\n",
        "min_val3 = np.min(M,axis=1) # minimum of each row (across columns)\n",
        "\n",
        "# print them out\n",
        "print(f' minimum from ENTIRE matrix: {min_val1}\\n minimum of each column: {min_val2}\\n minimum of each row: {min_val3}\\n')\n",
        "\n",
        "min_idx1 = np.argmin(M)        # minimum from ENTIRE matrix\n",
        "min_idx2 = np.argmin(M,axis=0) # minimum of each column (across rows)\n",
        "min_idx3 = np.argmin(M,axis=1) # minimum of each row (across columns)\n",
        "print(f' minimum index from ENTIRE matrix: {min_idx1}\\n minimum index of each column: {min_idx2}\\n minimum index of each row: {min_idx3}')"
      ],
      "metadata": {
        "colab": {
          "base_uri": "https://localhost:8080/"
        },
        "id": "g-Tm67FxiCmm",
        "outputId": "c1ee7f21-fd63-4915-f168-517ebcd2f008"
      },
      "execution_count": null,
      "outputs": [
        {
          "output_type": "stream",
          "name": "stdout",
          "text": [
            "[[40  1 10]\n",
            " [20  8  0]]\n",
            "\n",
            " minimum from ENTIRE matrix: 0\n",
            " minimum of each column: [20  1  0]\n",
            " minimum of each row: [1 0]\n",
            "\n",
            " minimum index from ENTIRE matrix: 5\n",
            " minimum index of each column: [1 0 1]\n",
            " minimum index of each row: [1 2]\n"
          ]
        }
      ]
    },
    {
      "cell_type": "code",
      "source": [
        "v_torch = torch.tensor([ 1,40,2,-3 ])\n",
        "min_torch_val = torch.min(v_torch)\n",
        "max_torch_val = torch.max(v_torch)\n",
        "\n",
        "print(f'Min,max: {min_torch_val}, {max_torch_val}')\n",
        "\n",
        "min_torch_idx = torch.argmin(v_torch)\n",
        "max_torch_idx = torch.argmax(v_torch)\n",
        "\n",
        "print(f'Min,max indices: {min_torch_idx},{max_torch_idx}')"
      ],
      "metadata": {
        "id": "DiPsbcIjj8jD",
        "colab": {
          "base_uri": "https://localhost:8080/"
        },
        "outputId": "69877d5d-e963-45ba-cbff-11253a593bac"
      },
      "execution_count": 72,
      "outputs": [
        {
          "output_type": "stream",
          "name": "stdout",
          "text": [
            "Min,max: -3, 40\n",
            "Min,max indices: 3,1\n"
          ]
        }
      ]
    },
    {
      "cell_type": "code",
      "source": [
        "M_torch = torch.tensor([ [0,1,10], [20,8,5] ])\n",
        "print(f'{M_torch}\\n')\n",
        "\n",
        "# various minima in this matrix!\n",
        "min1 = torch.min(M_torch)        # minimum from ENTIRE matrix\n",
        "min2 = torch.min(M_torch,axis=0) # minimum of each column (across rows)\n",
        "min3 = torch.min(M_torch,axis=1) # minimum of each row (across columns)\n",
        "print(f'minimum from entir matrix:{min1}\\nminimum of each column: {min2}\\n')\n",
        "print(f'mimimum of each column values: {min2.values}\\nminimum indices of each column: {min2.indices}')\n"
      ],
      "metadata": {
        "id": "E_OfdlkvikCo",
        "colab": {
          "base_uri": "https://localhost:8080/"
        },
        "outputId": "6625f007-2a96-4adc-9650-3d3dcab6e350"
      },
      "execution_count": 78,
      "outputs": [
        {
          "output_type": "stream",
          "name": "stdout",
          "text": [
            "tensor([[ 0,  1, 10],\n",
            "        [20,  8,  5]])\n",
            "\n",
            "minimum from entir matrix:0\n",
            "minimum of each column: torch.return_types.min(\n",
            "values=tensor([0, 1, 5]),\n",
            "indices=tensor([0, 0, 1]))\n",
            "\n",
            "mimimum of each column values: tensor([0, 1, 5])\n",
            "minimum indices of each column: tensor([0, 0, 1])\n"
          ]
        }
      ]
    },
    {
      "cell_type": "markdown",
      "source": [
        "## Using TensorFlow"
      ],
      "metadata": {
        "id": "LBt0VBnXu_mc"
      }
    },
    {
      "cell_type": "code",
      "source": [
        "M_tf = tf.constant([[0, 1, 10], [20, 8, 5]])\n",
        "print(f'{M_tf}\\n')\n",
        "\n",
        "# Various minima in this matrix\n",
        "min1 = tf.reduce_min(M_tf)  # Minimum from the entire matrix\n",
        "min2 = tf.reduce_min(M_tf, axis=0)  # Minimum of each column (across rows)\n",
        "min3 = tf.reduce_min(M_tf, axis=1)  # Minimum of each row (across columns)\n",
        "\n",
        "print(f'Minimum from entire matrix: {min1}\\n')\n",
        "print(f'Minimum of each column: {min2}\\n')\n",
        "\n",
        "# For minimum indices in each column\n",
        "min2_indices = tf.argmin(M_tf, axis=0)\n",
        "print(f'Minimum of each column values: {min2}\\n')\n",
        "print(f'Minimum indices of each column: {min2_indices}')"
      ],
      "metadata": {
        "colab": {
          "base_uri": "https://localhost:8080/"
        },
        "id": "jqbPpzprl_0p",
        "outputId": "6d1138ef-ce8b-40a0-dd9d-9a460f2e0e4b"
      },
      "execution_count": 85,
      "outputs": [
        {
          "output_type": "stream",
          "name": "stdout",
          "text": [
            "[[ 0  1 10]\n",
            " [20  8  5]]\n",
            "\n",
            "Minimum from entire matrix: 0\n",
            "\n",
            "Minimum of each column: [0 1 5]\n",
            "\n",
            "Minimum of each column values: [0 1 5]\n",
            "\n",
            "Minimum indices of each column: [0 0 1]\n"
          ]
        }
      ]
    },
    {
      "cell_type": "markdown",
      "source": [
        "# Mean and variance"
      ],
      "metadata": {
        "id": "NTY8YY0mvXZC"
      }
    },
    {
      "cell_type": "code",
      "source": [
        "x = [1,2,4,6,5,4,0]\n",
        "n = len(x)\n",
        "\n",
        "# compute the mean\n",
        "mean1 = np.mean(x)\n",
        "mean2 = np.sum(x) / n\n",
        "\n",
        "# print them\n",
        "print(mean1)\n",
        "print(mean2)"
      ],
      "metadata": {
        "colab": {
          "base_uri": "https://localhost:8080/"
        },
        "id": "5VhpLMjVuZi2",
        "outputId": "8a325f62-2b88-478b-8eed-6feb32853cf5"
      },
      "execution_count": 86,
      "outputs": [
        {
          "output_type": "stream",
          "name": "stdout",
          "text": [
            "3.142857142857143\n",
            "3.142857142857143\n"
          ]
        }
      ]
    },
    {
      "cell_type": "code",
      "source": [
        "# variance\n",
        "\n",
        "var1 = np.var(x)\n",
        "var2 = (1/(n-1)) * np.sum( (x-mean1)**2 )\n",
        "\n",
        "print(var1) # biased variance output\n",
        "print(var2)\n",
        "\n",
        "# Why are they different?\n",
        "# The default in numpy is to use biased variance (dividing by n)\n",
        "# while we are using dividing by (n - 1) which provides an unbiased estimate"
      ],
      "metadata": {
        "colab": {
          "base_uri": "https://localhost:8080/"
        },
        "id": "mBMtfDIJvbD8",
        "outputId": "fe2e57d2-0202-46c0-9124-41ed53a8ebe1"
      },
      "execution_count": 87,
      "outputs": [
        {
          "output_type": "stream",
          "name": "stdout",
          "text": [
            "4.122448979591836\n",
            "4.809523809523809\n"
          ]
        }
      ]
    },
    {
      "cell_type": "code",
      "source": [
        "var3 = np.var(x,ddof=1) # adding this argument makes numpy use unbiased estimate\n",
        "\n",
        "print(var3)\n",
        "print(var2)"
      ],
      "metadata": {
        "colab": {
          "base_uri": "https://localhost:8080/"
        },
        "id": "uVBR3ug9veec",
        "outputId": "11126b97-ae20-4f06-c5c2-54ed97f58964"
      },
      "execution_count": 88,
      "outputs": [
        {
          "output_type": "stream",
          "name": "stdout",
          "text": [
            "4.809523809523809\n",
            "4.809523809523809\n"
          ]
        }
      ]
    },
    {
      "cell_type": "code",
      "source": [
        "# Note that when  N gets bigger, divinding by (n) or (n - 1) is approx the same\n",
        "\n",
        "N = 100000\n",
        "x = np.random.randint(0,high=20,size=N)\n",
        "\n",
        "var0 = np.var(x,ddof=0) # biased\n",
        "var1 = np.var(x,ddof=1) # unbiased\n",
        "\n",
        "print(var0)\n",
        "print(var1)"
      ],
      "metadata": {
        "colab": {
          "base_uri": "https://localhost:8080/"
        },
        "id": "4nCoHFSYvhrb",
        "outputId": "f163bfd3-ef71-42ff-8baf-e2540c25678e"
      },
      "execution_count": 90,
      "outputs": [
        {
          "output_type": "stream",
          "name": "stdout",
          "text": [
            "33.4461453504\n",
            "33.44647981519815\n"
          ]
        }
      ]
    },
    {
      "cell_type": "markdown",
      "source": [
        "#  Random sampling and sampling variability"
      ],
      "metadata": {
        "id": "oDy8vo98w3yo"
      }
    },
    {
      "cell_type": "code",
      "source": [
        "x = [1,2,4,6,5,4,0,-4,5,-2,6,10,-9,1,3,-6]\n",
        "n = len(x)\n",
        "\n",
        "# compute the population mean\n",
        "popmean = np.mean(x)\n",
        "\n",
        "# compute a sample mean\n",
        "sample = np.random.choice(x,size=5,replace=True)\n",
        "sampmean = np.mean(sample)\n",
        "\n",
        "# print them\n",
        "print(popmean)\n",
        "print(sampmean)"
      ],
      "metadata": {
        "colab": {
          "base_uri": "https://localhost:8080/"
        },
        "id": "YH-ni7Y-wWBC",
        "outputId": "ee91d63b-edd1-4fa6-b1a9-8b81f05a1231"
      },
      "execution_count": 91,
      "outputs": [
        {
          "output_type": "stream",
          "name": "stdout",
          "text": [
            "1.625\n",
            "-0.4\n"
          ]
        }
      ]
    },
    {
      "cell_type": "code",
      "source": [
        "# compute lots of sample means\n",
        "\n",
        "# number of experiments to run\n",
        "samples_num = 10000\n",
        "\n",
        "# run the experiment!\n",
        "sampleMeans = np.zeros(samples_num)\n",
        "for i in range(samples_num):\n",
        "  # step 1: draw a sample\n",
        "  sample = np.random.choice(x,size=15,replace=True)\n",
        "  # step 2: compute its mean\n",
        "  sampleMeans[i] = np.mean(sample)\n",
        "\n",
        "\n",
        "\n",
        "# show the results as a histogram\n",
        "plt.hist(sampleMeans,bins=40,density=True)\n",
        "plt.plot([popmean,popmean],[0,.3],'m--', label='population mean')\n",
        "plt.legend()\n",
        "plt.ylabel('Count')\n",
        "plt.xlabel('Sample mean')\n",
        "plt.show()"
      ],
      "metadata": {
        "colab": {
          "base_uri": "https://localhost:8080/",
          "height": 461
        },
        "id": "ddCh-62Dw_As",
        "outputId": "4039dcb2-f822-4c42-f4ac-b37dfafab9db"
      },
      "execution_count": 97,
      "outputs": [
        {
          "output_type": "display_data",
          "data": {
            "text/plain": [
              "<Figure size 640x480 with 1 Axes>"
            ],
            "image/png": "[encoded data removed]"
          },
          "metadata": {}
        }
      ]
    },
    {
      "cell_type": "markdown",
      "source": [
        "# Identical Randomness via Seeding"
      ],
      "metadata": {
        "id": "CHXKAXxyyMRZ"
      }
    },
    {
      "cell_type": "code",
      "source": [
        "np.random.randn(5)"
      ],
      "metadata": {
        "colab": {
          "base_uri": "https://localhost:8080/"
        },
        "id": "4szwZ72exAL5",
        "outputId": "c4db6dd9-d79e-482c-f720-71ce6d670dfd"
      },
      "execution_count": 99,
      "outputs": [
        {
          "output_type": "execute_result",
          "data": {
            "text/plain": [
              "array([-1.63035831,  0.76182892, -0.1940647 ,  0.14804768, -2.19325167])"
            ]
          },
          "metadata": {},
          "execution_count": 99
        }
      ]
    },
    {
      "cell_type": "markdown",
      "source": [
        "## Old seeding mechanism in numpy"
      ],
      "metadata": {
        "id": "2UvEJ_pEybzA"
      }
    },
    {
      "cell_type": "code",
      "source": [
        "# repeat after fixing the seed (old-but-still-widely-used method)\n",
        "np.random.seed(17)\n",
        "print(np.random.randn(5))\n",
        "print(np.random.randn(5))\n",
        "# [ 0.27626589 -1.85462808  0.62390111  1.14531129  1.03719047]\n",
        "# [ 1.88663893 -0.11169829 -0.36210134  0.14867505 -0.43778315]"
      ],
      "metadata": {
        "colab": {
          "base_uri": "https://localhost:8080/"
        },
        "id": "L3G59uqtyN3K",
        "outputId": "9f5e2ba3-7308-4732-c524-0600b03f4f15"
      },
      "execution_count": 102,
      "outputs": [
        {
          "output_type": "stream",
          "name": "stdout",
          "text": [
            "[ 0.27626589 -1.85462808  0.62390111  1.14531129  1.03719047]\n",
            "[ 1.88663893 -0.11169829 -0.36210134  0.14867505 -0.43778315]\n",
            "[ 2.171257    1.15231025 -1.81881234 -0.13804934  0.53983961]\n"
          ]
        }
      ]
    },
    {
      "cell_type": "markdown",
      "source": [
        "## New seeding mechanism in numpy"
      ],
      "metadata": {
        "id": "cjSKw6syzV3v"
      }
    },
    {
      "cell_type": "code",
      "source": [
        "randseed1 = np.random.RandomState(17)\n",
        "randseed2 = np.random.RandomState(13)\n",
        "# This way we create a local seeding for each object that doesn't affect the entire numpy class\n",
        "\n",
        "print( randseed1.randn(5) )\n",
        "print( randseed2.randn(5) )\n",
        "print( randseed1.randn(5) )\n",
        "print( randseed2.randn(5) )\n",
        "\n",
        "# [ 0.27626589 -1.85462808  0.62390111  1.14531129  1.03719047]\n",
        "# [-0.71239066  0.75376638 -0.04450308  0.45181234  1.34510171]\n",
        "# [ 1.88663893 -0.11169829 -0.36210134  0.14867505 -0.43778315]\n",
        "# [ 0.53233789  1.3501879   0.86121137  1.47868574 -1.04537713]"
      ],
      "metadata": {
        "colab": {
          "base_uri": "https://localhost:8080/"
        },
        "id": "h4J0TGFHySSJ",
        "outputId": "f4d10f15-424f-4246-ab55-c04999bae180"
      },
      "execution_count": 109,
      "outputs": [
        {
          "output_type": "stream",
          "name": "stdout",
          "text": [
            "[ 0.27626589 -1.85462808  0.62390111  1.14531129  1.03719047]\n",
            "[-0.71239066  0.75376638 -0.04450308  0.45181234  1.34510171]\n",
            "[ 1.88663893 -0.11169829 -0.36210134  0.14867505 -0.43778315]\n",
            "[ 0.53233789  1.3501879   0.86121137  1.47868574 -1.04537713]\n"
          ]
        }
      ]
    },
    {
      "cell_type": "markdown",
      "source": [
        "## Using pytorch"
      ],
      "metadata": {
        "id": "ZUzckcIIzQOK"
      }
    },
    {
      "cell_type": "code",
      "source": [
        "torch.randn(5)"
      ],
      "metadata": {
        "colab": {
          "base_uri": "https://localhost:8080/"
        },
        "id": "I2WcGeRSyxQB",
        "outputId": "6129daff-a7f9-43bd-ed54-91a2b04c1dca"
      },
      "execution_count": 110,
      "outputs": [
        {
          "output_type": "execute_result",
          "data": {
            "text/plain": [
              "tensor([-0.3824,  1.5530,  0.2021, -0.9284,  0.7046])"
            ]
          },
          "metadata": {},
          "execution_count": 110
        }
      ]
    },
    {
      "cell_type": "code",
      "source": [
        "torch.manual_seed(17)\n",
        "print( torch.randn(5))"
      ],
      "metadata": {
        "colab": {
          "base_uri": "https://localhost:8080/"
        },
        "id": "dF1caJAVzbYs",
        "outputId": "75194b4c-df8a-4b62-9215-b0f6fdf74ded"
      },
      "execution_count": 115,
      "outputs": [
        {
          "output_type": "stream",
          "name": "stdout",
          "text": [
            "tensor([-1.4135,  0.2336,  0.0340,  0.3499, -0.0145])\n",
            "[ 0.79840199 -0.61007005  1.18540421 -0.71083401 -0.78112893]\n"
          ]
        }
      ]
    },
    {
      "cell_type": "markdown",
      "source": [
        "## Using TensorFlow"
      ],
      "metadata": {
        "id": "UbHVlXNRz4HX"
      }
    },
    {
      "cell_type": "code",
      "source": [
        "tf.random.set_seed(17)\n",
        "\n",
        "# Generate random numbers from a normal distribution\n",
        "random_tensor = tf.random.normal(shape=(5,))\n",
        "print(random_tensor)"
      ],
      "metadata": {
        "colab": {
          "base_uri": "https://localhost:8080/"
        },
        "id": "3yf2s0WYzdP0",
        "outputId": "30b7be70-f435-47a2-c5be-43052a4d32c1"
      },
      "execution_count": 119,
      "outputs": [
        {
          "output_type": "stream",
          "name": "stdout",
          "text": [
            "tf.Tensor([ 0.01778085  2.3094206  -0.9550922  -1.7634274   0.4548187 ], shape=(5,), dtype=float32)\n"
          ]
        }
      ]
    },
    {
      "cell_type": "markdown",
      "source": [
        "# T-test & P-Value"
      ],
      "metadata": {
        "id": "KniFt9MK1Z9u"
      }
    },
    {
      "cell_type": "code",
      "source": [
        "import scipy.stats as stats\n",
        "\n",
        "n1 = 30   # samples in dataset 1\n",
        "n2 = 40   # samples and 2\n",
        "mu1 = 1   # population mean in dataset 1\n",
        "mu2 = 2   # population mean in dataset 2\n",
        "\n",
        "# generate the data\n",
        "data1 = mu1 + np.random.randn(n1)\n",
        "data2 = mu2 + np.random.randn(n2)\n",
        "\n",
        "\n",
        "\n",
        "# plot them\n",
        "plt.plot(np.zeros(n1),data1,'ko',markerfacecolor='w',markersize=14)\n",
        "plt.plot(np.ones(n2), data2,'bs',markerfacecolor='w',markersize=14)\n",
        "plt.xlim([-1,2])\n",
        "plt.xticks([0,1],labels=['Group 1','Group 2'])\n",
        "plt.show()"
      ],
      "metadata": {
        "colab": {
          "base_uri": "https://localhost:8080/",
          "height": 436
        },
        "id": "AEguMK6IzzpD",
        "outputId": "5e303bb8-f766-4415-c513-ab561a302948"
      },
      "execution_count": 121,
      "outputs": [
        {
          "output_type": "display_data",
          "data": {
            "text/plain": [
              "<Figure size 640x480 with 1 Axes>"
            ],
            "image/png": "[encoded data removed]"
          },
          "metadata": {}
        }
      ]
    },
    {
      "cell_type": "code",
      "source": [
        "# t-test via stats package\n",
        "t,p = stats.ttest_ind(data1,data2) # _ind = independent samples\n",
        "print(t)\n",
        "print(p) # smaller than 0.005\n",
        "# therefore, reject the null hypothesis; there is significant evidence that the groups differ."
      ],
      "metadata": {
        "colab": {
          "base_uri": "https://localhost:8080/"
        },
        "id": "KPHeafKR1gpl",
        "outputId": "377063c8-fa51-41a8-f727-1a55dbe24ea1"
      },
      "execution_count": 123,
      "outputs": [
        {
          "output_type": "stream",
          "name": "stdout",
          "text": [
            "-4.058847349476968\n",
            "0.00012972748397820983\n"
          ]
        }
      ]
    },
    {
      "cell_type": "code",
      "source": [
        "# common way to show t-test results in a plot\n",
        "# as this way it helps to see the distribution better\n",
        "fig = plt.figure(figsize=(10,4))\n",
        "\n",
        "plt.plot(0+np.random.randn(n1)/15, data1, 'ro',markerfacecolor='w',markersize=14)\n",
        "plt.plot(1+np.random.randn(n2)/15, data2, 'bs',markerfacecolor='w',markersize=14)\n",
        "plt.xlim([-1,2])\n",
        "plt.xticks([0,1],labels=['Group 1','Group 2'])\n",
        "\n",
        "# set the title to include the t-value and p-value\n",
        "plt.title(f't = {t:.4f}, p={p:.4f}')\n",
        "\n",
        "plt.show()"
      ],
      "metadata": {
        "colab": {
          "base_uri": "https://localhost:8080/",
          "height": 402
        },
        "id": "60-oU84-1nyg",
        "outputId": "09a82e45-8e68-40e4-85e9-3a4b3ffbe7ea"
      },
      "execution_count": 126,
      "outputs": [
        {
          "output_type": "display_data",
          "data": {
            "text/plain": [
              "<Figure size 1000x400 with 1 Axes>"
            ],
            "image/png": "[encoded data removed]"
          },
          "metadata": {}
        }
      ]
    },
    {
      "cell_type": "markdown",
      "source": [
        "# Derivatives"
      ],
      "metadata": {
        "id": "6sTUndf52cKb"
      }
    },
    {
      "cell_type": "code",
      "source": [
        "import sympy as sym\n",
        "import sympy.plotting.plot as symplot\n",
        "from IPython.display import display # make the equations look nicer\n",
        "\n",
        "x = sym.symbols('x')\n",
        "\n",
        "# create a function\n",
        "fx = x**3\n",
        "\n",
        "# compute its derivative\n",
        "df = sym.diff(fx,x)\n",
        "\n",
        "# print them\n",
        "display(fx)\n",
        "display(df)\n"
      ],
      "metadata": {
        "colab": {
          "base_uri": "https://localhost:8080/",
          "height": 60
        },
        "id": "WhibV0Yy1_4q",
        "outputId": "83f90d33-6179-402f-b66b-3d83d3461f41"
      },
      "execution_count": 128,
      "outputs": [
        {
          "output_type": "display_data",
          "data": {
            "text/plain": [
              "x**3"
            ],
            "text/latex": "$\\displaystyle x^{3}$"
          },
          "metadata": {}
        },
        {
          "output_type": "display_data",
          "data": {
            "text/plain": [
              "3*x**2"
            ],
            "text/latex": "$\\displaystyle 3 x^{2}$"
          },
          "metadata": {}
        }
      ]
    },
    {
      "cell_type": "code",
      "source": [
        "# plot them\n",
        "p_fx = symplot(fx,(x,-4,4),label='The function f(x)', show=False)\n",
        "p_fx.extend(symplot(df,(x,-4,4),label='derivative df', show=False, line_color='red'))\n",
        "p_fx.legend = True\n",
        "p_fx.title = 'The function & its derivative'\n",
        "p_fx.show()\n"
      ],
      "metadata": {
        "colab": {
          "base_uri": "https://localhost:8080/",
          "height": 472
        },
        "id": "gKegvfV82tx4",
        "outputId": "0a6af8b2-a952-4c94-b67f-9d085fb18233"
      },
      "execution_count": 136,
      "outputs": [
        {
          "output_type": "display_data",
          "data": {
            "text/plain": [
              "<Figure size 640x480 with 1 Axes>"
            ],
            "image/png": "[encoded data removed]"
          },
          "metadata": {}
        }
      ]
    },
    {
      "cell_type": "markdown",
      "source": [
        "## Relu & Segmoid"
      ],
      "metadata": {
        "id": "wcOuPTIR3HJq"
      }
    },
    {
      "cell_type": "code",
      "source": [
        "# repeat with relu and sigmoid\n",
        "\n",
        "# create symbolic functions\n",
        "relu = sym.Max(0,x)\n",
        "sigmoid = 1 / (1+sym.exp(-x))\n",
        "\n",
        "# graph the functions\n",
        "p = symplot(relu,(x,-4,4),label='ReLU',show=False,line_color='blue')\n",
        "p.extend( symplot(sigmoid,(x,-4,4),label='Sigmoid',show=False,line_color='red') )\n",
        "p.legend = True\n",
        "p.title = 'The functions'\n",
        "p.show()\n",
        "\n",
        "\n",
        "# graph their derivatives\n",
        "p = symplot(sym.diff(relu),(x,-4,4),label='df(ReLU)',show=False,line_color='blue')\n",
        "p.extend( symplot(sym.diff(sigmoid),(x,-4,4),label='df(Sigmoid)',show=False,line_color='red') )\n",
        "p.legend = True\n",
        "p.title = 'The derivatives'\n",
        "p.show()"
      ],
      "metadata": {
        "colab": {
          "base_uri": "https://localhost:8080/",
          "height": 927
        },
        "id": "NoptdVBK27io",
        "outputId": "f6a1f15d-873a-46d4-844a-dc4d0a2ceb2a"
      },
      "execution_count": 137,
      "outputs": [
        {
          "output_type": "display_data",
          "data": {
            "text/plain": [
              "<Figure size 640x480 with 1 Axes>"
            ],
            "image/png": "[encoded data removed]"
          },
          "metadata": {}
        },
        {
          "output_type": "display_data",
          "data": {
            "text/plain": [
              "<Figure size 640x480 with 1 Axes>"
            ],
            "image/png": "[encoded data removed]"
          },
          "metadata": {}
        }
      ]
    },
    {
      "cell_type": "markdown",
      "source": [
        "## Product Rule"
      ],
      "metadata": {
        "id": "QbXnBSmA4dFc"
      }
    },
    {
      "cell_type": "code",
      "source": [
        "# create symbolic variables in sympy\n",
        "x = sym.symbols('x')\n",
        "\n",
        "# create two functions\n",
        "fx = 2*x**2\n",
        "gx = 4*x**3 - 3*x**4\n",
        "\n",
        "# compute their individual derivatives\n",
        "df = sym.diff(fx)\n",
        "dg = sym.diff(gx)\n",
        "\n",
        "# apply the product rule \"manually\"\n",
        "manual = df*gx + fx*dg\n",
        "\n",
        "# via sympy\n",
        "viasympy = sym.diff( fx*gx )\n",
        "\n",
        "\n",
        "# print everything\n",
        "print(f'The functions:')\n",
        "display(fx)\n",
        "display(gx)\n",
        "\n",
        "print('\\nTheir derivatives:')\n",
        "display(df)\n",
        "display(dg)\n",
        "\n",
        "print('\\nManual product rule:')\n",
        "display(manual)\n",
        "\n",
        "print('\\nVia sympy:')\n",
        "display(viasympy)\n",
        "print(' ')\n"
      ],
      "metadata": {
        "colab": {
          "base_uri": "https://localhost:8080/",
          "height": 284
        },
        "id": "Yt6nER_H3KUZ",
        "outputId": "aa887d9d-9917-4e58-d084-3971c1d6eb6c"
      },
      "execution_count": 139,
      "outputs": [
        {
          "output_type": "stream",
          "name": "stdout",
          "text": [
            "The functions:\n"
          ]
        },
        {
          "output_type": "display_data",
          "data": {
            "text/plain": [
              "2*x**2"
            ],
            "text/latex": "$\\displaystyle 2 x^{2}$"
          },
          "metadata": {}
        },
        {
          "output_type": "display_data",
          "data": {
            "text/plain": [
              "-3*x**4 + 4*x**3"
            ],
            "text/latex": "$\\displaystyle - 3 x^{4} + 4 x^{3}$"
          },
          "metadata": {}
        },
        {
          "output_type": "stream",
          "name": "stdout",
          "text": [
            "\n",
            "Their derivatives:\n"
          ]
        },
        {
          "output_type": "display_data",
          "data": {
            "text/plain": [
              "4*x"
            ],
            "text/latex": "$\\displaystyle 4 x$"
          },
          "metadata": {}
        },
        {
          "output_type": "display_data",
          "data": {
            "text/plain": [
              "-12*x**3 + 12*x**2"
            ],
            "text/latex": "$\\displaystyle - 12 x^{3} + 12 x^{2}$"
          },
          "metadata": {}
        },
        {
          "output_type": "stream",
          "name": "stdout",
          "text": [
            "\n",
            "Manual product rule:\n"
          ]
        },
        {
          "output_type": "display_data",
          "data": {
            "text/plain": [
              "2*x**2*(-12*x**3 + 12*x**2) + 4*x*(-3*x**4 + 4*x**3)"
            ],
            "text/latex": "$\\displaystyle 2 x^{2} \\left(- 12 x^{3} + 12 x^{2}\\right) + 4 x \\left(- 3 x^{4} + 4 x^{3}\\right)$"
          },
          "metadata": {}
        },
        {
          "output_type": "stream",
          "name": "stdout",
          "text": [
            "\n",
            "Via sympy:\n"
          ]
        },
        {
          "output_type": "display_data",
          "data": {
            "text/plain": [
              "2*x**2*(-12*x**3 + 12*x**2) + 4*x*(-3*x**4 + 4*x**3)"
            ],
            "text/latex": "$\\displaystyle 2 x^{2} \\left(- 12 x^{3} + 12 x^{2}\\right) + 4 x \\left(- 3 x^{4} + 4 x^{3}\\right)$"
          },
          "metadata": {}
        },
        {
          "output_type": "stream",
          "name": "stdout",
          "text": [
            " \n"
          ]
        }
      ]
    },
    {
      "cell_type": "markdown",
      "source": [
        "## Chain Rule"
      ],
      "metadata": {
        "id": "h3yNtYB2456O"
      }
    },
    {
      "cell_type": "code",
      "source": [
        "gx = x**2 + 4*x**3\n",
        "fx = ( gx )**5\n",
        "\n",
        "print('The function:')\n",
        "display(fx)\n",
        "\n",
        "print('\\nThe derivative:')\n",
        "display(sym.diff(fx))"
      ],
      "metadata": {
        "id": "rG8tyBBc4qCO",
        "outputId": "e1159939-75aa-4c80-a363-ccb7073046c2",
        "colab": {
          "base_uri": "https://localhost:8080/",
          "height": 118
        }
      },
      "execution_count": 141,
      "outputs": [
        {
          "output_type": "stream",
          "name": "stdout",
          "text": [
            "The function:\n"
          ]
        },
        {
          "output_type": "display_data",
          "data": {
            "text/plain": [
              "(4*x**3 + x**2)**5"
            ],
            "text/latex": "$\\displaystyle \\left(4 x^{3} + x^{2}\\right)^{5}$"
          },
          "metadata": {}
        },
        {
          "output_type": "stream",
          "name": "stdout",
          "text": [
            "\n",
            "The derivative:\n"
          ]
        },
        {
          "output_type": "display_data",
          "data": {
            "text/plain": [
              "(60*x**2 + 10*x)*(4*x**3 + x**2)**4"
            ],
            "text/latex": "$\\displaystyle \\left(60 x^{2} + 10 x\\right) \\left(4 x^{3} + x^{2}\\right)^{4}$"
          },
          "metadata": {}
        }
      ]
    },
    {
      "cell_type": "code",
      "source": [],
      "metadata": {
        "id": "STOGKG045HCG"
      },
      "execution_count": null,
      "outputs": []
    }
  ]
}